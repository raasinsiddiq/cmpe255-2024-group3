{
 "cells": [
  {
   "cell_type": "markdown",
   "id": "ecf5c252-67af-4109-bf5e-98c37670f208",
   "metadata": {},
   "source": [
    "# CMPE 255 - Project - Raasin Siddiq"
   ]
  },
  {
   "cell_type": "markdown",
   "id": "2df0d728-48b0-415e-8a93-25b3b89fe723",
   "metadata": {},
   "source": [
    "Data info:\n",
    "<br>\n",
    "This data set consists of positions and absorbed power outputs of wave energy converters (WECs) in four real wave scenarios from the southern coast of Australia.\n",
    "<br>\n",
    "<br>\n",
    "Additional Information\n",
    "<br>\n",
    "This data set consists of positions and absorbed power outputs of wave energy converters (WECs) in four real wave scenarios from the southern coast of Australia (Sydney, Adelaide, Perth and Tasmania). The applied converter model is a fully submerged three-tether converter called CETO [1]. 16 WECs locations are placed and optimized in a size-constrained environment. In terms of optimization, the problem is categorised as an expensive optimization problem that each farm evaluation takes several minutes. The results are derived from several popular and successful Evolutionary optimization methods that are published in [2,3].  The source code of the applied hydrodynamic simulator [4] is available by the below link: \n",
    "https://au.mathworks.com/matlabcentral/fileexchange/71840-wave-energy-converter-wec-array-simulator\n",
    "<br>\n",
    "This work was supported with supercomputing resources provided by the Phoenix HPC service at the University of Adelaide.\n",
    "<br>\n",
    "<br>\n",
    "Attribute: Attribute Range \n",
    "1. WECs position {X1, X2, â€¦, X16; Y1, Y2,â€¦, Y16} continuous from 0 to 566 (m). \n",
    "2. WECs absorbed power: {P1, P2, â€¦, P16} \n",
    "3. Total power output of the farm: Powerall\n",
    "<br>\n",
    "<br>\n",
    "- https://archive.ics.uci.edu/dataset/494/wave+energy+converters\n",
    "- https://archive.ics.uci.edu/dataset/882/large-scale+wave+energy+farm\n"
   ]
  },
  {
   "cell_type": "markdown",
   "id": "ae021cc5-bc3d-4beb-ab16-984b4c4add7e",
   "metadata": {},
   "source": [
    "## Imports"
   ]
  },
  {
   "cell_type": "code",
   "execution_count": 79,
   "id": "2bddb9be-bade-490f-a7a3-6c9ca779093b",
   "metadata": {},
   "outputs": [],
   "source": [
    "# Imports\n",
    "import numpy as np\n",
    "import scipy as sp\n",
    "import scipy.sparse as sps\n",
    "import sklearn\n",
    "import pandas as pd\n",
    "import math, glob, csv\n",
    "\n",
    "%matplotlib inline\n",
    "import matplotlib.pyplot as plt\n",
    "\n",
    "from collections import defaultdict\n",
    "from scipy.sparse import csr_matrix, csr_array\n",
    "from sklearn.model_selection import train_test_split\n",
    "from sklearn.model_selection import cross_val_score\n",
    "from sklearn.metrics import classification_report"
   ]
  },
  {
   "cell_type": "code",
   "execution_count": 71,
   "id": "0b3131cf-68d7-42d7-afb0-71b6ddc00f0b",
   "metadata": {},
   "outputs": [],
   "source": [
    "import tensorflow as tf"
   ]
  },
  {
   "cell_type": "markdown",
   "id": "06eb1a95-4f1f-4328-b80c-fa08600c371d",
   "metadata": {},
   "source": [
    "## Load Data"
   ]
  },
  {
   "cell_type": "code",
   "execution_count": 73,
   "id": "e776e37f-da84-414a-a797-73782ca4c96f",
   "metadata": {},
   "outputs": [
    {
     "name": "stdout",
     "output_type": "stream",
     "text": [
      "['wecs_data/Adelaide_Data.csv', 'wecs_data/Perth_Data.csv', 'wecs_data/Sydney_Data.csv', 'wecs_data/Tasmania_Data.csv']\n"
     ]
    }
   ],
   "source": [
    "# Open and read train file\n",
    "data_path  = \"wecs_data/\"\n",
    "data_paths = glob.glob(data_path+\"*.csv\")\n",
    "print(data_paths)"
   ]
  },
  {
   "cell_type": "code",
   "execution_count": 27,
   "id": "d5876b5a-9d71-4e67-b855-c383199082a9",
   "metadata": {},
   "outputs": [
    {
     "name": "stdout",
     "output_type": "stream",
     "text": [
      "Adelaide data: (71999, 49)\n",
      "Perth    data: (72000, 49)\n",
      "Sydney   data: (72000, 49)\n",
      "Tasmania data: (72000, 49)\n"
     ]
    }
   ],
   "source": [
    "data_ade = np.genfromtxt(fname=data_paths[0], dtype=np.float64, delimiter=',')\n",
    "data_per = np.genfromtxt(fname=data_paths[1], dtype=np.float64, delimiter=',')\n",
    "data_syd = np.genfromtxt(fname=data_paths[2], dtype=np.float64, delimiter=',')\n",
    "data_tas = np.genfromtxt(fname=data_paths[3], dtype=np.float64, delimiter=',')\n",
    "\n",
    "print(f\"Adelaide data: {data_ade.shape}\")\n",
    "print(f\"Perth    data: {data_per.shape}\")\n",
    "print(f\"Sydney   data: {data_syd.shape}\")\n",
    "print(f\"Tasmania data: {data_tas.shape}\")"
   ]
  },
  {
   "cell_type": "code",
   "execution_count": 100,
   "id": "f284a5c8-84b0-4fc0-bf67-98f9c00f5bcf",
   "metadata": {},
   "outputs": [],
   "source": [
    "labels_text = [\"Adelaide\",\"Perth\",\"Sydney\",\"Tasmania\"]\n",
    "data_ade_labels = np.hstack((data_ade, np.full((data_ade.shape[0], 1), 0)))\n",
    "data_per_labels = np.hstack((data_per, np.full((data_per.shape[0], 1), 1)))\n",
    "data_syd_labels = np.hstack((data_syd, np.full((data_syd.shape[0], 1), 2)))\n",
    "data_tas_labels = np.hstack((data_tas, np.full((data_tas.shape[0], 1), 3)))"
   ]
  },
  {
   "cell_type": "code",
   "execution_count": 101,
   "id": "8b8099d8-8154-4ce6-9b81-af6e3b8c95a2",
   "metadata": {},
   "outputs": [
    {
     "name": "stdout",
     "output_type": "stream",
     "text": [
      "All data with labels: (287999, 50)\n"
     ]
    }
   ],
   "source": [
    "# data_all        = np.vstack((data_ade,data_per,data_syd,data_tas))\n",
    "data_all_labels = np.vstack((data_ade_labels,data_per_labels,data_syd_labels,data_tas_labels))\n",
    "\n",
    "# print(f\"All data: {data_all.shape}\")\n",
    "print(f\"All data with labels: {data_all_labels.shape}\")"
   ]
  },
  {
   "cell_type": "code",
   "execution_count": 102,
   "id": "d330c9b7-a5f8-40cb-8419-0def107aedc4",
   "metadata": {},
   "outputs": [
    {
     "name": "stdout",
     "output_type": "stream",
     "text": [
      "[[3.16585500e+02 2.23927700e+02 1.82343400e+02 ... 9.84472846e+04\n",
      "  9.75702225e+04 1.37037415e+06]\n",
      " [5.30313600e+02 6.87031000e+01 3.15983000e+01 ... 7.82344337e+04\n",
      "  8.46336493e+04 1.34092976e+06]\n",
      " [2.73967000e+01 3.99048800e+02 5.65685400e+02 ... 8.30309726e+04\n",
      "  9.47796131e+04 1.35203151e+06]\n",
      " ...\n",
      " [4.97652000e+01 9.04154000e+01 1.10600000e+02 ... 2.36459006e+05\n",
      "  2.22454797e+05 3.71833084e+06]\n",
      " [5.39431400e+02 1.54626200e+02 4.93822500e+02 ... 2.67671188e+05\n",
      "  2.49700455e+05 3.68547554e+06]\n",
      " [5.65685400e+02 9.80576000e+01 4.37254000e+02 ... 2.65369246e+05\n",
      "  2.40729017e+05 3.73328110e+06]]\n",
      "\n",
      "[0. 0. 0. ... 3. 3. 3.]\n"
     ]
    }
   ],
   "source": [
    "print(data_all_labels[:,:-1])\n",
    "print()\n",
    "print(data_all_labels[:,-1])"
   ]
  },
  {
   "cell_type": "markdown",
   "id": "0130e33c-c729-4af8-8a45-3b7fe2b8979b",
   "metadata": {},
   "source": [
    "## Preprocessing?"
   ]
  },
  {
   "cell_type": "code",
   "execution_count": null,
   "id": "4bcf93c0-0380-41b2-b37d-82846ca28397",
   "metadata": {},
   "outputs": [],
   "source": []
  },
  {
   "cell_type": "code",
   "execution_count": null,
   "id": "5e88eb79-b20b-4f86-8521-e498028509bb",
   "metadata": {},
   "outputs": [],
   "source": []
  },
  {
   "cell_type": "code",
   "execution_count": null,
   "id": "a1aa69f9-4ef3-44a6-b9d1-9635460de639",
   "metadata": {},
   "outputs": [],
   "source": []
  },
  {
   "cell_type": "code",
   "execution_count": null,
   "id": "23ebb7b9-8efc-4eab-8d19-3e404821ee24",
   "metadata": {},
   "outputs": [],
   "source": []
  },
  {
   "cell_type": "markdown",
   "id": "44507295-c63f-4b98-8971-e3c13f3f94b6",
   "metadata": {},
   "source": [
    "## Neural Network"
   ]
  },
  {
   "cell_type": "code",
   "execution_count": 103,
   "id": "7ab536eb-4331-48dc-a1f8-fd79ba045382",
   "metadata": {},
   "outputs": [],
   "source": [
    "train_data, test_data, train_labels, test_labels = train_test_split(\n",
    "    data_all_labels[:,:-1],\n",
    "    data_all_labels[:,-1],\n",
    "    train_size=0.80,\n",
    "    random_state=1,\n",
    "    stratify=data_all_labels[:,-1])"
   ]
  },
  {
   "cell_type": "code",
   "execution_count": 104,
   "id": "383b63af-f1c8-4645-a178-6e4f03760b73",
   "metadata": {},
   "outputs": [],
   "source": [
    "tf.random.set_seed(1)\n",
    "\n",
    "model = tf.keras.Sequential([\n",
    "  tf.keras.layers.Dense(1, activation='relu'), # try relu\n",
    "  tf.keras.layers.Dense(1) # output layer\n",
    "])"
   ]
  },
  {
   "cell_type": "code",
   "execution_count": 105,
   "id": "0b11b02c-abc3-4bc5-b6ba-32df7e0b0f0d",
   "metadata": {},
   "outputs": [],
   "source": [
    "model.compile(optimizer='adam',\n",
    "              loss=tf.keras.losses.binary_crossentropy,\n",
    "              metrics=[\"accuracy\"])"
   ]
  },
  {
   "cell_type": "code",
   "execution_count": 116,
   "id": "349276aa-3255-4c11-b77f-7de5d2950228",
   "metadata": {
    "scrolled": true
   },
   "outputs": [
    {
     "name": "stdout",
     "output_type": "stream",
     "text": [
      "Epoch 1/100\n",
      "\u001b[1m7200/7200\u001b[0m \u001b[32m━━━━━━━━━━━━━━━━━━━━\u001b[0m\u001b[37m\u001b[0m \u001b[1m5s\u001b[0m 653us/step - accuracy: 0.2499 - loss: 24.1868\n",
      "Epoch 2/100\n",
      "\u001b[1m7200/7200\u001b[0m \u001b[32m━━━━━━━━━━━━━━━━━━━━\u001b[0m\u001b[37m\u001b[0m \u001b[1m5s\u001b[0m 661us/step - accuracy: 0.2499 - loss: 24.1868\n",
      "Epoch 3/100\n",
      "\u001b[1m7200/7200\u001b[0m \u001b[32m━━━━━━━━━━━━━━━━━━━━\u001b[0m\u001b[37m\u001b[0m \u001b[1m5s\u001b[0m 654us/step - accuracy: 0.2499 - loss: 24.1868\n",
      "Epoch 4/100\n",
      "\u001b[1m7200/7200\u001b[0m \u001b[32m━━━━━━━━━━━━━━━━━━━━\u001b[0m\u001b[37m\u001b[0m \u001b[1m5s\u001b[0m 662us/step - accuracy: 0.2499 - loss: 24.1868\n",
      "Epoch 5/100\n",
      "\u001b[1m7200/7200\u001b[0m \u001b[32m━━━━━━━━━━━━━━━━━━━━\u001b[0m\u001b[37m\u001b[0m \u001b[1m5s\u001b[0m 645us/step - accuracy: 0.2499 - loss: 24.1868\n",
      "Epoch 6/100\n",
      "\u001b[1m7200/7200\u001b[0m \u001b[32m━━━━━━━━━━━━━━━━━━━━\u001b[0m\u001b[37m\u001b[0m \u001b[1m5s\u001b[0m 634us/step - accuracy: 0.2499 - loss: 24.1868\n",
      "Epoch 7/100\n",
      "\u001b[1m7200/7200\u001b[0m \u001b[32m━━━━━━━━━━━━━━━━━━━━\u001b[0m\u001b[37m\u001b[0m \u001b[1m4s\u001b[0m 594us/step - accuracy: 0.2499 - loss: 24.1868\n",
      "Epoch 8/100\n",
      "\u001b[1m7200/7200\u001b[0m \u001b[32m━━━━━━━━━━━━━━━━━━━━\u001b[0m\u001b[37m\u001b[0m \u001b[1m4s\u001b[0m 618us/step - accuracy: 0.2499 - loss: 24.1868\n",
      "Epoch 9/100\n",
      "\u001b[1m7200/7200\u001b[0m \u001b[32m━━━━━━━━━━━━━━━━━━━━\u001b[0m\u001b[37m\u001b[0m \u001b[1m5s\u001b[0m 629us/step - accuracy: 0.2499 - loss: 24.1868\n",
      "Epoch 10/100\n",
      "\u001b[1m7200/7200\u001b[0m \u001b[32m━━━━━━━━━━━━━━━━━━━━\u001b[0m\u001b[37m\u001b[0m \u001b[1m5s\u001b[0m 634us/step - accuracy: 0.2499 - loss: 24.1868\n",
      "Epoch 11/100\n",
      "\u001b[1m7200/7200\u001b[0m \u001b[32m━━━━━━━━━━━━━━━━━━━━\u001b[0m\u001b[37m\u001b[0m \u001b[1m4s\u001b[0m 607us/step - accuracy: 0.2499 - loss: 24.1868\n",
      "Epoch 12/100\n",
      "\u001b[1m7200/7200\u001b[0m \u001b[32m━━━━━━━━━━━━━━━━━━━━\u001b[0m\u001b[37m\u001b[0m \u001b[1m4s\u001b[0m 608us/step - accuracy: 0.2499 - loss: 24.1868\n",
      "Epoch 13/100\n",
      "\u001b[1m7200/7200\u001b[0m \u001b[32m━━━━━━━━━━━━━━━━━━━━\u001b[0m\u001b[37m\u001b[0m \u001b[1m4s\u001b[0m 606us/step - accuracy: 0.2499 - loss: 24.1868\n",
      "Epoch 14/100\n",
      "\u001b[1m7200/7200\u001b[0m \u001b[32m━━━━━━━━━━━━━━━━━━━━\u001b[0m\u001b[37m\u001b[0m \u001b[1m4s\u001b[0m 615us/step - accuracy: 0.2499 - loss: 24.1868\n",
      "Epoch 15/100\n",
      "\u001b[1m7200/7200\u001b[0m \u001b[32m━━━━━━━━━━━━━━━━━━━━\u001b[0m\u001b[37m\u001b[0m \u001b[1m4s\u001b[0m 608us/step - accuracy: 0.2499 - loss: 24.1868\n",
      "Epoch 16/100\n",
      "\u001b[1m7200/7200\u001b[0m \u001b[32m━━━━━━━━━━━━━━━━━━━━\u001b[0m\u001b[37m\u001b[0m \u001b[1m4s\u001b[0m 611us/step - accuracy: 0.2499 - loss: 24.1868\n",
      "Epoch 17/100\n",
      "\u001b[1m7200/7200\u001b[0m \u001b[32m━━━━━━━━━━━━━━━━━━━━\u001b[0m\u001b[37m\u001b[0m \u001b[1m4s\u001b[0m 607us/step - accuracy: 0.2499 - loss: 24.1868\n",
      "Epoch 18/100\n",
      "\u001b[1m7200/7200\u001b[0m \u001b[32m━━━━━━━━━━━━━━━━━━━━\u001b[0m\u001b[37m\u001b[0m \u001b[1m4s\u001b[0m 608us/step - accuracy: 0.2499 - loss: 24.1868\n",
      "Epoch 19/100\n",
      "\u001b[1m7200/7200\u001b[0m \u001b[32m━━━━━━━━━━━━━━━━━━━━\u001b[0m\u001b[37m\u001b[0m \u001b[1m4s\u001b[0m 606us/step - accuracy: 0.2499 - loss: 24.1868\n",
      "Epoch 20/100\n",
      "\u001b[1m7200/7200\u001b[0m \u001b[32m━━━━━━━━━━━━━━━━━━━━\u001b[0m\u001b[37m\u001b[0m \u001b[1m4s\u001b[0m 605us/step - accuracy: 0.2499 - loss: 24.1868\n",
      "Epoch 21/100\n",
      "\u001b[1m7200/7200\u001b[0m \u001b[32m━━━━━━━━━━━━━━━━━━━━\u001b[0m\u001b[37m\u001b[0m \u001b[1m4s\u001b[0m 608us/step - accuracy: 0.2499 - loss: 24.1868\n",
      "Epoch 22/100\n",
      "\u001b[1m7200/7200\u001b[0m \u001b[32m━━━━━━━━━━━━━━━━━━━━\u001b[0m\u001b[37m\u001b[0m \u001b[1m4s\u001b[0m 600us/step - accuracy: 0.2499 - loss: 24.1868\n",
      "Epoch 23/100\n",
      "\u001b[1m7200/7200\u001b[0m \u001b[32m━━━━━━━━━━━━━━━━━━━━\u001b[0m\u001b[37m\u001b[0m \u001b[1m4s\u001b[0m 611us/step - accuracy: 0.2499 - loss: 24.1868\n",
      "Epoch 24/100\n",
      "\u001b[1m7200/7200\u001b[0m \u001b[32m━━━━━━━━━━━━━━━━━━━━\u001b[0m\u001b[37m\u001b[0m \u001b[1m4s\u001b[0m 602us/step - accuracy: 0.2499 - loss: 24.1868\n",
      "Epoch 25/100\n",
      "\u001b[1m7200/7200\u001b[0m \u001b[32m━━━━━━━━━━━━━━━━━━━━\u001b[0m\u001b[37m\u001b[0m \u001b[1m4s\u001b[0m 614us/step - accuracy: 0.2499 - loss: 24.1868\n",
      "Epoch 26/100\n",
      "\u001b[1m7200/7200\u001b[0m \u001b[32m━━━━━━━━━━━━━━━━━━━━\u001b[0m\u001b[37m\u001b[0m \u001b[1m4s\u001b[0m 611us/step - accuracy: 0.2499 - loss: 24.1868\n",
      "Epoch 27/100\n",
      "\u001b[1m7200/7200\u001b[0m \u001b[32m━━━━━━━━━━━━━━━━━━━━\u001b[0m\u001b[37m\u001b[0m \u001b[1m4s\u001b[0m 602us/step - accuracy: 0.2499 - loss: 24.1868\n",
      "Epoch 28/100\n",
      "\u001b[1m7200/7200\u001b[0m \u001b[32m━━━━━━━━━━━━━━━━━━━━\u001b[0m\u001b[37m\u001b[0m \u001b[1m4s\u001b[0m 598us/step - accuracy: 0.2499 - loss: 24.1868\n",
      "Epoch 29/100\n",
      "\u001b[1m7200/7200\u001b[0m \u001b[32m━━━━━━━━━━━━━━━━━━━━\u001b[0m\u001b[37m\u001b[0m \u001b[1m4s\u001b[0m 611us/step - accuracy: 0.2499 - loss: 24.1868\n",
      "Epoch 30/100\n",
      "\u001b[1m7200/7200\u001b[0m \u001b[32m━━━━━━━━━━━━━━━━━━━━\u001b[0m\u001b[37m\u001b[0m \u001b[1m4s\u001b[0m 603us/step - accuracy: 0.2499 - loss: 24.1868\n",
      "Epoch 31/100\n",
      "\u001b[1m7200/7200\u001b[0m \u001b[32m━━━━━━━━━━━━━━━━━━━━\u001b[0m\u001b[37m\u001b[0m \u001b[1m4s\u001b[0m 609us/step - accuracy: 0.2499 - loss: 24.1868\n",
      "Epoch 32/100\n",
      "\u001b[1m7200/7200\u001b[0m \u001b[32m━━━━━━━━━━━━━━━━━━━━\u001b[0m\u001b[37m\u001b[0m \u001b[1m4s\u001b[0m 612us/step - accuracy: 0.2499 - loss: 24.1868\n",
      "Epoch 33/100\n",
      "\u001b[1m7200/7200\u001b[0m \u001b[32m━━━━━━━━━━━━━━━━━━━━\u001b[0m\u001b[37m\u001b[0m \u001b[1m4s\u001b[0m 600us/step - accuracy: 0.2499 - loss: 24.1868\n",
      "Epoch 34/100\n",
      "\u001b[1m7200/7200\u001b[0m \u001b[32m━━━━━━━━━━━━━━━━━━━━\u001b[0m\u001b[37m\u001b[0m \u001b[1m4s\u001b[0m 599us/step - accuracy: 0.2499 - loss: 24.1868\n",
      "Epoch 35/100\n",
      "\u001b[1m7200/7200\u001b[0m \u001b[32m━━━━━━━━━━━━━━━━━━━━\u001b[0m\u001b[37m\u001b[0m \u001b[1m4s\u001b[0m 598us/step - accuracy: 0.2499 - loss: 24.1868\n",
      "Epoch 36/100\n",
      "\u001b[1m7200/7200\u001b[0m \u001b[32m━━━━━━━━━━━━━━━━━━━━\u001b[0m\u001b[37m\u001b[0m \u001b[1m4s\u001b[0m 613us/step - accuracy: 0.2499 - loss: 24.1868\n",
      "Epoch 37/100\n",
      "\u001b[1m7200/7200\u001b[0m \u001b[32m━━━━━━━━━━━━━━━━━━━━\u001b[0m\u001b[37m\u001b[0m \u001b[1m4s\u001b[0m 600us/step - accuracy: 0.2499 - loss: 24.1868\n",
      "Epoch 38/100\n",
      "\u001b[1m7200/7200\u001b[0m \u001b[32m━━━━━━━━━━━━━━━━━━━━\u001b[0m\u001b[37m\u001b[0m \u001b[1m4s\u001b[0m 599us/step - accuracy: 0.2499 - loss: 24.1868\n",
      "Epoch 39/100\n",
      "\u001b[1m7200/7200\u001b[0m \u001b[32m━━━━━━━━━━━━━━━━━━━━\u001b[0m\u001b[37m\u001b[0m \u001b[1m4s\u001b[0m 601us/step - accuracy: 0.2499 - loss: 24.1868\n",
      "Epoch 40/100\n",
      "\u001b[1m7200/7200\u001b[0m \u001b[32m━━━━━━━━━━━━━━━━━━━━\u001b[0m\u001b[37m\u001b[0m \u001b[1m4s\u001b[0m 619us/step - accuracy: 0.2499 - loss: 24.1868\n",
      "Epoch 41/100\n",
      "\u001b[1m7200/7200\u001b[0m \u001b[32m━━━━━━━━━━━━━━━━━━━━\u001b[0m\u001b[37m\u001b[0m \u001b[1m5s\u001b[0m 622us/step - accuracy: 0.2499 - loss: 24.1868\n",
      "Epoch 42/100\n",
      "\u001b[1m7200/7200\u001b[0m \u001b[32m━━━━━━━━━━━━━━━━━━━━\u001b[0m\u001b[37m\u001b[0m \u001b[1m4s\u001b[0m 620us/step - accuracy: 0.2499 - loss: 24.1868\n",
      "Epoch 43/100\n",
      "\u001b[1m7200/7200\u001b[0m \u001b[32m━━━━━━━━━━━━━━━━━━━━\u001b[0m\u001b[37m\u001b[0m \u001b[1m5s\u001b[0m 624us/step - accuracy: 0.2499 - loss: 24.1868\n",
      "Epoch 44/100\n",
      "\u001b[1m7200/7200\u001b[0m \u001b[32m━━━━━━━━━━━━━━━━━━━━\u001b[0m\u001b[37m\u001b[0m \u001b[1m4s\u001b[0m 617us/step - accuracy: 0.2499 - loss: 24.1868\n",
      "Epoch 45/100\n",
      "\u001b[1m7200/7200\u001b[0m \u001b[32m━━━━━━━━━━━━━━━━━━━━\u001b[0m\u001b[37m\u001b[0m \u001b[1m4s\u001b[0m 603us/step - accuracy: 0.2499 - loss: 24.1868\n",
      "Epoch 46/100\n",
      "\u001b[1m7200/7200\u001b[0m \u001b[32m━━━━━━━━━━━━━━━━━━━━\u001b[0m\u001b[37m\u001b[0m \u001b[1m5s\u001b[0m 640us/step - accuracy: 0.2499 - loss: 24.1868\n",
      "Epoch 47/100\n",
      "\u001b[1m7200/7200\u001b[0m \u001b[32m━━━━━━━━━━━━━━━━━━━━\u001b[0m\u001b[37m\u001b[0m \u001b[1m5s\u001b[0m 654us/step - accuracy: 0.2499 - loss: 24.1868\n",
      "Epoch 48/100\n",
      "\u001b[1m7200/7200\u001b[0m \u001b[32m━━━━━━━━━━━━━━━━━━━━\u001b[0m\u001b[37m\u001b[0m \u001b[1m5s\u001b[0m 651us/step - accuracy: 0.2499 - loss: 24.1868\n",
      "Epoch 49/100\n",
      "\u001b[1m7200/7200\u001b[0m \u001b[32m━━━━━━━━━━━━━━━━━━━━\u001b[0m\u001b[37m\u001b[0m \u001b[1m5s\u001b[0m 653us/step - accuracy: 0.2499 - loss: 24.1868\n",
      "Epoch 50/100\n",
      "\u001b[1m7200/7200\u001b[0m \u001b[32m━━━━━━━━━━━━━━━━━━━━\u001b[0m\u001b[37m\u001b[0m \u001b[1m5s\u001b[0m 652us/step - accuracy: 0.2499 - loss: 24.1868\n",
      "Epoch 51/100\n",
      "\u001b[1m7200/7200\u001b[0m \u001b[32m━━━━━━━━━━━━━━━━━━━━\u001b[0m\u001b[37m\u001b[0m \u001b[1m5s\u001b[0m 663us/step - accuracy: 0.2499 - loss: 24.1868\n",
      "Epoch 52/100\n",
      "\u001b[1m7200/7200\u001b[0m \u001b[32m━━━━━━━━━━━━━━━━━━━━\u001b[0m\u001b[37m\u001b[0m \u001b[1m5s\u001b[0m 643us/step - accuracy: 0.2499 - loss: 24.1868\n",
      "Epoch 53/100\n",
      "\u001b[1m7200/7200\u001b[0m \u001b[32m━━━━━━━━━━━━━━━━━━━━\u001b[0m\u001b[37m\u001b[0m \u001b[1m5s\u001b[0m 636us/step - accuracy: 0.2499 - loss: 24.1868\n",
      "Epoch 54/100\n",
      "\u001b[1m7200/7200\u001b[0m \u001b[32m━━━━━━━━━━━━━━━━━━━━\u001b[0m\u001b[37m\u001b[0m \u001b[1m5s\u001b[0m 624us/step - accuracy: 0.2499 - loss: 24.1868\n",
      "Epoch 55/100\n",
      "\u001b[1m7200/7200\u001b[0m \u001b[32m━━━━━━━━━━━━━━━━━━━━\u001b[0m\u001b[37m\u001b[0m \u001b[1m5s\u001b[0m 662us/step - accuracy: 0.2499 - loss: 24.1868\n",
      "Epoch 56/100\n",
      "\u001b[1m7200/7200\u001b[0m \u001b[32m━━━━━━━━━━━━━━━━━━━━\u001b[0m\u001b[37m\u001b[0m \u001b[1m5s\u001b[0m 645us/step - accuracy: 0.2499 - loss: 24.1868\n",
      "Epoch 57/100\n",
      "\u001b[1m7200/7200\u001b[0m \u001b[32m━━━━━━━━━━━━━━━━━━━━\u001b[0m\u001b[37m\u001b[0m \u001b[1m5s\u001b[0m 643us/step - accuracy: 0.2499 - loss: 24.1868\n",
      "Epoch 58/100\n",
      "\u001b[1m7200/7200\u001b[0m \u001b[32m━━━━━━━━━━━━━━━━━━━━\u001b[0m\u001b[37m\u001b[0m \u001b[1m5s\u001b[0m 661us/step - accuracy: 0.2499 - loss: 24.1868\n",
      "Epoch 59/100\n",
      "\u001b[1m7200/7200\u001b[0m \u001b[32m━━━━━━━━━━━━━━━━━━━━\u001b[0m\u001b[37m\u001b[0m \u001b[1m5s\u001b[0m 652us/step - accuracy: 0.2499 - loss: 24.1868\n",
      "Epoch 60/100\n",
      "\u001b[1m7200/7200\u001b[0m \u001b[32m━━━━━━━━━━━━━━━━━━━━\u001b[0m\u001b[37m\u001b[0m \u001b[1m5s\u001b[0m 653us/step - accuracy: 0.2499 - loss: 24.1868\n",
      "Epoch 61/100\n",
      "\u001b[1m7200/7200\u001b[0m \u001b[32m━━━━━━━━━━━━━━━━━━━━\u001b[0m\u001b[37m\u001b[0m \u001b[1m5s\u001b[0m 657us/step - accuracy: 0.2499 - loss: 24.1868\n",
      "Epoch 62/100\n",
      "\u001b[1m7200/7200\u001b[0m \u001b[32m━━━━━━━━━━━━━━━━━━━━\u001b[0m\u001b[37m\u001b[0m \u001b[1m5s\u001b[0m 626us/step - accuracy: 0.2499 - loss: 24.1868\n",
      "Epoch 63/100\n",
      "\u001b[1m7200/7200\u001b[0m \u001b[32m━━━━━━━━━━━━━━━━━━━━\u001b[0m\u001b[37m\u001b[0m \u001b[1m4s\u001b[0m 595us/step - accuracy: 0.2499 - loss: 24.1868\n",
      "Epoch 64/100\n",
      "\u001b[1m7200/7200\u001b[0m \u001b[32m━━━━━━━━━━━━━━━━━━━━\u001b[0m\u001b[37m\u001b[0m \u001b[1m4s\u001b[0m 599us/step - accuracy: 0.2499 - loss: 24.1868\n",
      "Epoch 65/100\n",
      "\u001b[1m7200/7200\u001b[0m \u001b[32m━━━━━━━━━━━━━━━━━━━━\u001b[0m\u001b[37m\u001b[0m \u001b[1m4s\u001b[0m 591us/step - accuracy: 0.2499 - loss: 24.1868\n",
      "Epoch 66/100\n",
      "\u001b[1m7200/7200\u001b[0m \u001b[32m━━━━━━━━━━━━━━━━━━━━\u001b[0m\u001b[37m\u001b[0m \u001b[1m4s\u001b[0m 594us/step - accuracy: 0.2499 - loss: 24.1868\n",
      "Epoch 67/100\n",
      "\u001b[1m7200/7200\u001b[0m \u001b[32m━━━━━━━━━━━━━━━━━━━━\u001b[0m\u001b[37m\u001b[0m \u001b[1m4s\u001b[0m 602us/step - accuracy: 0.2499 - loss: 24.1868\n",
      "Epoch 68/100\n",
      "\u001b[1m7200/7200\u001b[0m \u001b[32m━━━━━━━━━━━━━━━━━━━━\u001b[0m\u001b[37m\u001b[0m \u001b[1m4s\u001b[0m 597us/step - accuracy: 0.2499 - loss: 24.1868\n",
      "Epoch 69/100\n",
      "\u001b[1m7200/7200\u001b[0m \u001b[32m━━━━━━━━━━━━━━━━━━━━\u001b[0m\u001b[37m\u001b[0m \u001b[1m4s\u001b[0m 594us/step - accuracy: 0.2499 - loss: 24.1868\n",
      "Epoch 70/100\n",
      "\u001b[1m7200/7200\u001b[0m \u001b[32m━━━━━━━━━━━━━━━━━━━━\u001b[0m\u001b[37m\u001b[0m \u001b[1m4s\u001b[0m 591us/step - accuracy: 0.2499 - loss: 24.1868\n",
      "Epoch 71/100\n",
      "\u001b[1m7200/7200\u001b[0m \u001b[32m━━━━━━━━━━━━━━━━━━━━\u001b[0m\u001b[37m\u001b[0m \u001b[1m4s\u001b[0m 590us/step - accuracy: 0.2499 - loss: 24.1868\n",
      "Epoch 72/100\n",
      "\u001b[1m7200/7200\u001b[0m \u001b[32m━━━━━━━━━━━━━━━━━━━━\u001b[0m\u001b[37m\u001b[0m \u001b[1m4s\u001b[0m 598us/step - accuracy: 0.2499 - loss: 24.1868\n",
      "Epoch 73/100\n",
      "\u001b[1m7200/7200\u001b[0m \u001b[32m━━━━━━━━━━━━━━━━━━━━\u001b[0m\u001b[37m\u001b[0m \u001b[1m4s\u001b[0m 603us/step - accuracy: 0.2499 - loss: 24.1868\n",
      "Epoch 74/100\n",
      "\u001b[1m7200/7200\u001b[0m \u001b[32m━━━━━━━━━━━━━━━━━━━━\u001b[0m\u001b[37m\u001b[0m \u001b[1m4s\u001b[0m 595us/step - accuracy: 0.2499 - loss: 24.1868\n",
      "Epoch 75/100\n",
      "\u001b[1m7200/7200\u001b[0m \u001b[32m━━━━━━━━━━━━━━━━━━━━\u001b[0m\u001b[37m\u001b[0m \u001b[1m4s\u001b[0m 596us/step - accuracy: 0.2499 - loss: 24.1868\n",
      "Epoch 76/100\n",
      "\u001b[1m7200/7200\u001b[0m \u001b[32m━━━━━━━━━━━━━━━━━━━━\u001b[0m\u001b[37m\u001b[0m \u001b[1m4s\u001b[0m 595us/step - accuracy: 0.2499 - loss: 24.1868\n",
      "Epoch 77/100\n",
      "\u001b[1m7200/7200\u001b[0m \u001b[32m━━━━━━━━━━━━━━━━━━━━\u001b[0m\u001b[37m\u001b[0m \u001b[1m4s\u001b[0m 594us/step - accuracy: 0.2499 - loss: 24.1868\n",
      "Epoch 78/100\n",
      "\u001b[1m7200/7200\u001b[0m \u001b[32m━━━━━━━━━━━━━━━━━━━━\u001b[0m\u001b[37m\u001b[0m \u001b[1m4s\u001b[0m 597us/step - accuracy: 0.2499 - loss: 24.1868\n",
      "Epoch 79/100\n",
      "\u001b[1m7200/7200\u001b[0m \u001b[32m━━━━━━━━━━━━━━━━━━━━\u001b[0m\u001b[37m\u001b[0m \u001b[1m4s\u001b[0m 600us/step - accuracy: 0.2499 - loss: 24.1868\n",
      "Epoch 80/100\n",
      "\u001b[1m7200/7200\u001b[0m \u001b[32m━━━━━━━━━━━━━━━━━━━━\u001b[0m\u001b[37m\u001b[0m \u001b[1m4s\u001b[0m 595us/step - accuracy: 0.2499 - loss: 24.1868\n",
      "Epoch 81/100\n",
      "\u001b[1m7200/7200\u001b[0m \u001b[32m━━━━━━━━━━━━━━━━━━━━\u001b[0m\u001b[37m\u001b[0m \u001b[1m4s\u001b[0m 593us/step - accuracy: 0.2499 - loss: 24.1868\n",
      "Epoch 82/100\n",
      "\u001b[1m7200/7200\u001b[0m \u001b[32m━━━━━━━━━━━━━━━━━━━━\u001b[0m\u001b[37m\u001b[0m \u001b[1m4s\u001b[0m 600us/step - accuracy: 0.2499 - loss: 24.1868\n",
      "Epoch 83/100\n",
      "\u001b[1m7200/7200\u001b[0m \u001b[32m━━━━━━━━━━━━━━━━━━━━\u001b[0m\u001b[37m\u001b[0m \u001b[1m4s\u001b[0m 593us/step - accuracy: 0.2499 - loss: 24.1868\n",
      "Epoch 84/100\n",
      "\u001b[1m7200/7200\u001b[0m \u001b[32m━━━━━━━━━━━━━━━━━━━━\u001b[0m\u001b[37m\u001b[0m \u001b[1m4s\u001b[0m 593us/step - accuracy: 0.2499 - loss: 24.1868\n",
      "Epoch 85/100\n",
      "\u001b[1m7200/7200\u001b[0m \u001b[32m━━━━━━━━━━━━━━━━━━━━\u001b[0m\u001b[37m\u001b[0m \u001b[1m4s\u001b[0m 608us/step - accuracy: 0.2499 - loss: 24.1868\n",
      "Epoch 86/100\n",
      "\u001b[1m7200/7200\u001b[0m \u001b[32m━━━━━━━━━━━━━━━━━━━━\u001b[0m\u001b[37m\u001b[0m \u001b[1m4s\u001b[0m 606us/step - accuracy: 0.2499 - loss: 24.1868\n",
      "Epoch 87/100\n",
      "\u001b[1m7200/7200\u001b[0m \u001b[32m━━━━━━━━━━━━━━━━━━━━\u001b[0m\u001b[37m\u001b[0m \u001b[1m4s\u001b[0m 599us/step - accuracy: 0.2499 - loss: 24.1868\n",
      "Epoch 88/100\n",
      "\u001b[1m7200/7200\u001b[0m \u001b[32m━━━━━━━━━━━━━━━━━━━━\u001b[0m\u001b[37m\u001b[0m \u001b[1m4s\u001b[0m 593us/step - accuracy: 0.2499 - loss: 24.1868\n",
      "Epoch 89/100\n",
      "\u001b[1m7200/7200\u001b[0m \u001b[32m━━━━━━━━━━━━━━━━━━━━\u001b[0m\u001b[37m\u001b[0m \u001b[1m4s\u001b[0m 593us/step - accuracy: 0.2499 - loss: 24.1868\n",
      "Epoch 90/100\n",
      "\u001b[1m7200/7200\u001b[0m \u001b[32m━━━━━━━━━━━━━━━━━━━━\u001b[0m\u001b[37m\u001b[0m \u001b[1m4s\u001b[0m 601us/step - accuracy: 0.2499 - loss: 24.1868\n",
      "Epoch 91/100\n",
      "\u001b[1m7200/7200\u001b[0m \u001b[32m━━━━━━━━━━━━━━━━━━━━\u001b[0m\u001b[37m\u001b[0m \u001b[1m4s\u001b[0m 592us/step - accuracy: 0.2499 - loss: 24.1868\n",
      "Epoch 92/100\n",
      "\u001b[1m7200/7200\u001b[0m \u001b[32m━━━━━━━━━━━━━━━━━━━━\u001b[0m\u001b[37m\u001b[0m \u001b[1m4s\u001b[0m 599us/step - accuracy: 0.2499 - loss: 24.1868\n",
      "Epoch 93/100\n",
      "\u001b[1m7200/7200\u001b[0m \u001b[32m━━━━━━━━━━━━━━━━━━━━\u001b[0m\u001b[37m\u001b[0m \u001b[1m4s\u001b[0m 598us/step - accuracy: 0.2499 - loss: 24.1868\n",
      "Epoch 94/100\n",
      "\u001b[1m7200/7200\u001b[0m \u001b[32m━━━━━━━━━━━━━━━━━━━━\u001b[0m\u001b[37m\u001b[0m \u001b[1m4s\u001b[0m 593us/step - accuracy: 0.2499 - loss: 24.1868\n",
      "Epoch 95/100\n",
      "\u001b[1m7200/7200\u001b[0m \u001b[32m━━━━━━━━━━━━━━━━━━━━\u001b[0m\u001b[37m\u001b[0m \u001b[1m4s\u001b[0m 609us/step - accuracy: 0.2499 - loss: 24.1868\n",
      "Epoch 96/100\n",
      "\u001b[1m7200/7200\u001b[0m \u001b[32m━━━━━━━━━━━━━━━━━━━━\u001b[0m\u001b[37m\u001b[0m \u001b[1m4s\u001b[0m 602us/step - accuracy: 0.2499 - loss: 24.1868\n",
      "Epoch 97/100\n",
      "\u001b[1m7200/7200\u001b[0m \u001b[32m━━━━━━━━━━━━━━━━━━━━\u001b[0m\u001b[37m\u001b[0m \u001b[1m4s\u001b[0m 598us/step - accuracy: 0.2499 - loss: 24.1868\n",
      "Epoch 98/100\n",
      "\u001b[1m7200/7200\u001b[0m \u001b[32m━━━━━━━━━━━━━━━━━━━━\u001b[0m\u001b[37m\u001b[0m \u001b[1m4s\u001b[0m 599us/step - accuracy: 0.2499 - loss: 24.1868\n",
      "Epoch 99/100\n",
      "\u001b[1m7200/7200\u001b[0m \u001b[32m━━━━━━━━━━━━━━━━━━━━\u001b[0m\u001b[37m\u001b[0m \u001b[1m4s\u001b[0m 602us/step - accuracy: 0.2499 - loss: 24.1868\n",
      "Epoch 100/100\n",
      "\u001b[1m7200/7200\u001b[0m \u001b[32m━━━━━━━━━━━━━━━━━━━━\u001b[0m\u001b[37m\u001b[0m \u001b[1m4s\u001b[0m 600us/step - accuracy: 0.2499 - loss: 24.1868\n"
     ]
    }
   ],
   "source": [
    "history = model.fit(train_data, train_labels, epochs=100)"
   ]
  },
  {
   "cell_type": "code",
   "execution_count": 128,
   "id": "75a60fec-331d-4d10-b9c9-ad3b27dd3247",
   "metadata": {},
   "outputs": [
    {
     "data": {
      "image/png": "[encoded data removed]",
      "text/plain": [
       "<Figure size 640x480 with 1 Axes>"
      ]
     },
     "metadata": {},
     "output_type": "display_data"
    }
   ],
   "source": [
    "plt.plot(history.history['loss'], color='b')\n",
    "# plt.plot(history.history['val_loss'])\n",
    "plt.title('Model Loss')\n",
    "plt.ylabel('Loss')\n",
    "plt.xlabel('Epoch Number')\n",
    "plt.legend(['train'], loc='upper left')\n",
    "# plt.legend(['train', 'val'], loc='upper left')\n",
    "plt.show()"
   ]
  },
  {
   "cell_type": "code",
   "execution_count": 129,
   "id": "8cf369be-f6ac-4d9f-8c49-6458054b28cf",
   "metadata": {},
   "outputs": [
    {
     "data": {
      "image/png": "[encoded data removed]",
      "text/plain": [
       "<Figure size 640x480 with 1 Axes>"
      ]
     },
     "metadata": {},
     "output_type": "display_data"
    }
   ],
   "source": [
    "plt.plot(history.history['accuracy'], color='r')\n",
    "# plt.plot(history.history['val_accuracy'])\n",
    "plt.title('Model Accuracy')\n",
    "plt.ylabel('Accuracy')\n",
    "plt.xlabel('Epoch Number')\n",
    "plt.legend(['train'], loc='upper left')\n",
    "# plt.legend(['train', 'val'], loc='upper left')\n",
    "plt.show()"
   ]
  },
  {
   "cell_type": "code",
   "execution_count": 119,
   "id": "6b47bc9d-7665-4523-93da-67db285fc4cb",
   "metadata": {},
   "outputs": [
    {
     "name": "stdout",
     "output_type": "stream",
     "text": [
      "1800/1800 - 1s - 464us/step - accuracy: 0.2500 - loss: 24.1771\n"
     ]
    }
   ],
   "source": [
    "test_loss, test_acc = model.evaluate(test_data, test_labels, verbose=2)"
   ]
  },
  {
   "cell_type": "code",
   "execution_count": 120,
   "id": "ff77b0e3-1fe9-4295-b7a2-05e6b6e19d7e",
   "metadata": {},
   "outputs": [
    {
     "name": "stdout",
     "output_type": "stream",
     "text": [
      "Test Loss:     24.177146911621094\n",
      "Test Accuracy: 0.25\n"
     ]
    }
   ],
   "source": [
    "print(f\"Test Loss:     {test_loss}\")\n",
    "print(f\"Test Accuracy: {test_acc}\")"
   ]
  },
  {
   "cell_type": "markdown",
   "id": "33ec5c01-5176-4604-a635-3a0d1089ba1a",
   "metadata": {},
   "source": [
    "## Predictions"
   ]
  },
  {
   "cell_type": "code",
   "execution_count": 121,
   "id": "bbb29541-f017-494d-a689-848918d8e03d",
   "metadata": {},
   "outputs": [],
   "source": [
    "probability_model = tf.keras.Sequential([model,\n",
    "                                         tf.keras.layers.Softmax()])"
   ]
  },
  {
   "cell_type": "code",
   "execution_count": 122,
   "id": "3293c79a-be8d-4038-8d76-3844060b33ef",
   "metadata": {},
   "outputs": [
    {
     "name": "stdout",
     "output_type": "stream",
     "text": [
      "\u001b[1m 317/1800\u001b[0m \u001b[32m━━━\u001b[0m\u001b[37m━━━━━━━━━━━━━━━━━\u001b[0m \u001b[1m0s\u001b[0m 476us/step"
     ]
    },
    {
     "name": "stderr",
     "output_type": "stream",
     "text": [
      "/opt/conda/lib/python3.11/site-packages/keras/src/ops/nn.py:545: UserWarning: You are using a softmax over axis -1 of a tensor of shape (32, 1). This axis has size 1. The softmax operation will always return the value 1, which is likely not what you intended. Did you mean to use a sigmoid instead?\n",
      "  warnings.warn(\n"
     ]
    },
    {
     "name": "stdout",
     "output_type": "stream",
     "text": [
      "\u001b[1m1800/1800\u001b[0m \u001b[32m━━━━━━━━━━━━━━━━━━━━\u001b[0m\u001b[37m\u001b[0m \u001b[1m1s\u001b[0m 463us/step\n"
     ]
    }
   ],
   "source": [
    "predictions = probability_model.predict(test_data)"
   ]
  },
  {
   "cell_type": "code",
   "execution_count": 123,
   "id": "c7354376-5a51-46e7-91ad-8f17e5e7f7fe",
   "metadata": {},
   "outputs": [
    {
     "data": {
      "text/plain": [
       "array([0.99999994], dtype=float32)"
      ]
     },
     "execution_count": 123,
     "metadata": {},
     "output_type": "execute_result"
    }
   ],
   "source": [
    "predictions[0]"
   ]
  },
  {
   "cell_type": "code",
   "execution_count": 124,
   "id": "48127503-743a-4e20-87fa-257946bda36d",
   "metadata": {},
   "outputs": [
    {
     "data": {
      "text/plain": [
       "0"
      ]
     },
     "execution_count": 124,
     "metadata": {},
     "output_type": "execute_result"
    }
   ],
   "source": [
    "np.argmax(predictions[0])"
   ]
  },
  {
   "cell_type": "code",
   "execution_count": null,
   "id": "6421d107-d7b2-45ef-88fc-9b03c410f544",
   "metadata": {},
   "outputs": [],
   "source": []
  },
  {
   "cell_type": "code",
   "execution_count": null,
   "id": "15ed008c-c53f-4d6b-b082-d44774a4a982",
   "metadata": {},
   "outputs": [],
   "source": []
  },
  {
   "cell_type": "code",
   "execution_count": null,
   "id": "f24871f9-aa99-4003-9f17-5daede9706c6",
   "metadata": {},
   "outputs": [],
   "source": []
  },
  {
   "cell_type": "code",
   "execution_count": null,
   "id": "d4fc045e-fd54-433d-95bc-edcffa936de8",
   "metadata": {},
   "outputs": [],
   "source": []
  }
 ],
 "metadata": {
  "kernelspec": {
   "display_name": "Python 3 (ipykernel)",
   "language": "python",
   "name": "python3"
  },
  "language_info": {
   "codemirror_mode": {
    "name": "ipython",
    "version": 3
   },
   "file_extension": ".py",
   "mimetype": "text/x-python",
   "name": "python",
   "nbconvert_exporter": "python",
   "pygments_lexer": "ipython3",
   "version": "3.11.10"
  }
 },
 "nbformat": 4,
 "nbformat_minor": 5
}
